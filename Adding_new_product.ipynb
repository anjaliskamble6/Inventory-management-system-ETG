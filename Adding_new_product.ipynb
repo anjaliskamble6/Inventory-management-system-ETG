{
  "nbformat": 4,
  "nbformat_minor": 0,
  "metadata": {
    "colab": {
      "name": "Adding new product ",
      "provenance": [],
      "collapsed_sections": []
    },
    "kernelspec": {
      "name": "python3",
      "display_name": "Python 3"
    },
    "language_info": {
      "name": "python"
    }
  },
  "cells": [
    {
      "cell_type": "code",
      "metadata": {
        "id": "WzHzV8dKge-1"
      },
      "source": [
        "record = {101 : { \"prod_nm\":\"Biscuit\", \"prod_cost\":20, \"prod_quan\": 100, \"prod_weight\":'10gm'},\n",
        "       102 : { \"prod_nm\":\"Chocolate\", \"prod_cost\":10, \"prod_quan\": 200, \"prod_weight\":'1gm'},\n",
        "       103 : { \"prod_nm\":\"Chips\", \"prod_cost\":10, \"prod_quan\": 150, \"prod_weight\":'15gm'},\n",
        "       104 : { \"prod_nm\":\"Drinks\", \"prod_cost\":25, \"prod_quan\": 100, \"prod_weight\":'1 li'},\n",
        "       105 : { \"prod_nm\":\"Cakes\", \"prod_cost\":40, \"prod_quan\": 100, \"prod_weight\":'500gm'},\n",
        "       106 : { \"prod_nm\":\"coffee packet\", \"prod_cost\":15, \"prod_quan\": 100, \"prod_weight\":'1gm'},\n",
        "       107 : { \"prod_nm\":\"tea packet\", \"prod_cost\":20, \"prod_quan\": 200, \"prod_weight\":'10gm'},\n",
        "       108 : { \"prod_nm\":\"Milk\", \"prod_cost\":30, \"prod_quan\": 120, \"prod_weight\":'1 li'},\n",
        "       109 : { \"prod_nm\":\"Sugar\", \"prod_cost\":35, \"prod_quan\": 200, \"prod_weight\":'1kg'},\n",
        "       110 : { \"prod_nm\":\"Wheat flour\", \"prod_cost\":350, \"prod_quan\": 200, \"prod_weight\":'5kg'},\n",
        "       111 : { \"prod_nm\":\"Cheese\", \"prod_cost\":50, \"prod_quan\": 100, \"prod_weight\":'15gm'},\n",
        "       112 : { \"prod_nm\":\"Mixed spices\", \"prod_cost\":35, \"prod_quan\": 200, \"prod_weight\":'10gm'},\n",
        "       112 : { \"prod_nm\":\"Soap\", \"prod_cost\":35, \"prod_quan\": 200, \"prod_weight\":'10gm'},\n",
        "       114 : { \"prod_nm\":\"clothes\", \"prod_cost\":100, \"prod_quan\": 500, \"prod_weight\":'-'},\n",
        "       115 : { \"prod_nm\":\"Rice flour\", \"prod_cost\":150, \"prod_quan\": 200, \"prod_weight\":'1kg'},\n",
        "       116 : { \"prod_nm\":\"Juice\", \"prod_cost\":20, \"prod_quan\": 200, \"prod_weight\":'1 li'},\n",
        "       117 : { \"prod_nm\":\"Toaster\", \"prod_cost\":700, \"prod_quan\": 200, \"prod_weight\":'5kg'},\n",
        "       118 : { \"prod_nm\":\"Cooker\", \"prod_cost\":250, \"prod_quan\": 100, \"prod_weight\":'1 li'},\n",
        "       119 : { \"prod_nm\":\"vegetables\", \"prod_cost\":40, \"prod_quan\": 140, \"prod_weight\":'10gm'},\n",
        "       120 : { \"prod_nm\":\"Crockery\", \"prod_cost\":1000, \"prod_quan\": 300, \"prod_weight\":'500gm'},\n",
        "       121 : { \"prod_nm\":\"Cosmetics\", \"prod_cost\":150, \"prod_quan\": 100, \"prod_weight\":'5gm'},\n",
        "       122 : { \"prod_nm\":\"Detergent\", \"prod_cost\":35, \"prod_quan\": 200, \"prod_weight\":'1kg'},\n",
        "       123 : { \"prod_nm\":\"Bags\", \"prod_cost\":150, \"prod_quan\": 200, \"prod_weight\":'250gm'},\n",
        "       124 : { \"prod_nm\":\"Bedsheets\", \"prod_cost\":250, \"prod_quan\": 500, \"prod_weight\":'1 m'},\n",
        "       125 : { \"prod_nm\":\"Table cloth\", \"prod_cost\":100, \"prod_quan\": 200, \"prod_weight\":'1 m'},\n",
        "       126 : { \"prod_nm\":\"Copper utensils\", \"prod_cost\":400, \"prod_quan\":100 , \"prod_weight\":'100 gm'},\n",
        "       127 : { \"prod_nm\":\"Steel utensils\", \"prod_cost\":400, \"prod_quan\": 200, \"prod_weight\":'100gm'},\n",
        "       128 : { \"prod_nm\":\"Mixer grinder\", \"prod_cost\":100, \"prod_quan\": 200, \"prod_weight\":'1 kg'},\n",
        "       129 : { \"prod_nm\":\"Kitchen towels\", \"prod_cost\":35, \"prod_quan\": 200, \"prod_weight\":'10gm'},\n",
        "       130 : { \"prod_nm\":\"Tissue papers\", \"prod_cost\":12, \"prod_quan\": 200, \"prod_weight\":'1gm'}}\n"
      ],
      "execution_count": 1,
      "outputs": []
    },
    {
      "cell_type": "code",
      "metadata": {
        "id": "gqjWIUoogl2T"
      },
      "source": [
        "import json"
      ],
      "execution_count": 2,
      "outputs": []
    },
    {
      "cell_type": "code",
      "metadata": {
        "id": "xVZM69_sgrNt"
      },
      "source": [
        "js = json.dumps(record)"
      ],
      "execution_count": 3,
      "outputs": []
    },
    {
      "cell_type": "code",
      "metadata": {
        "id": "8ILqSmrKgwTg",
        "colab": {
          "base_uri": "https://localhost:8080/",
          "height": 171
        },
        "outputId": "f03834db-b235-4c5c-848e-8691fd97f310"
      },
      "source": [
        "js"
      ],
      "execution_count": 4,
      "outputs": [
        {
          "output_type": "execute_result",
          "data": {
            "application/vnd.google.colaboratory.intrinsic+json": {
              "type": "string"
            },
            "text/plain": [
              "'{\"101\": {\"prod_nm\": \"Biscuit\", \"prod_cost\": 20, \"prod_quan\": 100, \"prod_weight\": \"10gm\"}, \"102\": {\"prod_nm\": \"Chocolate\", \"prod_cost\": 10, \"prod_quan\": 200, \"prod_weight\": \"1gm\"}, \"103\": {\"prod_nm\": \"Chips\", \"prod_cost\": 10, \"prod_quan\": 150, \"prod_weight\": \"15gm\"}, \"104\": {\"prod_nm\": \"Drinks\", \"prod_cost\": 25, \"prod_quan\": 100, \"prod_weight\": \"1 li\"}, \"105\": {\"prod_nm\": \"Cakes\", \"prod_cost\": 40, \"prod_quan\": 100, \"prod_weight\": \"500gm\"}, \"106\": {\"prod_nm\": \"coffee packet\", \"prod_cost\": 15, \"prod_quan\": 100, \"prod_weight\": \"1gm\"}, \"107\": {\"prod_nm\": \"tea packet\", \"prod_cost\": 20, \"prod_quan\": 200, \"prod_weight\": \"10gm\"}, \"108\": {\"prod_nm\": \"Milk\", \"prod_cost\": 30, \"prod_quan\": 120, \"prod_weight\": \"1 li\"}, \"109\": {\"prod_nm\": \"Sugar\", \"prod_cost\": 35, \"prod_quan\": 200, \"prod_weight\": \"1kg\"}, \"110\": {\"prod_nm\": \"Wheat flour\", \"prod_cost\": 350, \"prod_quan\": 200, \"prod_weight\": \"5kg\"}, \"111\": {\"prod_nm\": \"Cheese\", \"prod_cost\": 50, \"prod_quan\": 100, \"prod_weight\": \"15gm\"}, \"112\": {\"prod_nm\": \"Soap\", \"prod_cost\": 35, \"prod_quan\": 200, \"prod_weight\": \"10gm\"}, \"114\": {\"prod_nm\": \"clothes\", \"prod_cost\": 100, \"prod_quan\": 500, \"prod_weight\": \"-\"}, \"115\": {\"prod_nm\": \"Rice flour\", \"prod_cost\": 150, \"prod_quan\": 200, \"prod_weight\": \"1kg\"}, \"116\": {\"prod_nm\": \"Juice\", \"prod_cost\": 20, \"prod_quan\": 200, \"prod_weight\": \"1 li\"}, \"117\": {\"prod_nm\": \"Toaster\", \"prod_cost\": 700, \"prod_quan\": 200, \"prod_weight\": \"5kg\"}, \"118\": {\"prod_nm\": \"Cooker\", \"prod_cost\": 250, \"prod_quan\": 100, \"prod_weight\": \"1 li\"}, \"119\": {\"prod_nm\": \"vegetables\", \"prod_cost\": 40, \"prod_quan\": 140, \"prod_weight\": \"10gm\"}, \"120\": {\"prod_nm\": \"Crockery\", \"prod_cost\": 1000, \"prod_quan\": 300, \"prod_weight\": \"500gm\"}, \"121\": {\"prod_nm\": \"Cosmetics\", \"prod_cost\": 150, \"prod_quan\": 100, \"prod_weight\": \"5gm\"}, \"122\": {\"prod_nm\": \"Detergent\", \"prod_cost\": 35, \"prod_quan\": 200, \"prod_weight\": \"1kg\"}, \"123\": {\"prod_nm\": \"Bags\", \"prod_cost\": 150, \"prod_quan\": 200, \"prod_weight\": \"250gm\"}, \"124\": {\"prod_nm\": \"Bedsheets\", \"prod_cost\": 250, \"prod_quan\": 500, \"prod_weight\": \"1 m\"}, \"125\": {\"prod_nm\": \"Table cloth\", \"prod_cost\": 100, \"prod_quan\": 200, \"prod_weight\": \"1 m\"}, \"126\": {\"prod_nm\": \"Copper utensils\", \"prod_cost\": 400, \"prod_quan\": 100, \"prod_weight\": \"100 gm\"}, \"127\": {\"prod_nm\": \"Steel utensils\", \"prod_cost\": 400, \"prod_quan\": 200, \"prod_weight\": \"100gm\"}, \"128\": {\"prod_nm\": \"Mixer grinder\", \"prod_cost\": 100, \"prod_quan\": 200, \"prod_weight\": \"1 kg\"}, \"129\": {\"prod_nm\": \"Kitchen towels\", \"prod_cost\": 35, \"prod_quan\": 200, \"prod_weight\": \"10gm\"}, \"130\": {\"prod_nm\": \"Tissue papers\", \"prod_cost\": 12, \"prod_quan\": 200, \"prod_weight\": \"1gm\"}}'"
            ]
          },
          "metadata": {},
          "execution_count": 4
        }
      ]
    },
    {
      "cell_type": "code",
      "metadata": {
        "id": "5tVRzNtVhOgl"
      },
      "source": [
        "fd = open(\"Record.txt\", 'w')\n",
        "fd.write(js)\n",
        "fd.close()"
      ],
      "execution_count": 5,
      "outputs": []
    },
    {
      "cell_type": "code",
      "metadata": {
        "id": "pxWSvJcahzaq"
      },
      "source": [
        "fd = open(\"Record.txt\", 'r')\n",
        "txt = fd.read()\n",
        "fd.close()\n"
      ],
      "execution_count": 6,
      "outputs": []
    },
    {
      "cell_type": "code",
      "metadata": {
        "id": "oujKcZBEKE76"
      },
      "source": [
        "record = json.loads(txt)"
      ],
      "execution_count": 7,
      "outputs": []
    },
    {
      "cell_type": "code",
      "metadata": {
        "id": "UqFX1i5-WOPe"
      },
      "source": [
        "record = txt.split(\"\\n\")\n",
        "\n"
      ],
      "execution_count": 8,
      "outputs": []
    },
    {
      "cell_type": "markdown",
      "metadata": {
        "id": "nU8QfvBlupwk"
      },
      "source": [
        "Add new item to inventory"
      ]
    },
    {
      "cell_type": "code",
      "metadata": {
        "colab": {
          "base_uri": "https://localhost:8080/"
        },
        "id": "WQlCGoyeKRw1",
        "outputId": "f63ab816-a31b-4204-f2c8-5a741b090661"
      },
      "source": [
        "prod_id = str(input(\"Enter product id:\"))\n",
        "name = str(input(\"Enter product name:\"))\n",
        "pr = int(input(\"Enter price:\"))\n",
        "qn = int(input(\"Enter quantity:\"))\n",
        "wei  = str(input(\"Enter weight:\"))\n",
        "\n",
        "record[prod_id] = {'name' : name, 'pr': pr, 'qn': qn, 'wei': wei}\n",
        "\n",
        "js =  json.dumps(record)\n",
        "\n",
        "fd = open(\"record.json\", 'w')\n",
        "fd.write(js)\n",
        "fd.close()\n"
      ],
      "execution_count": null,
      "outputs": [
        {
          "name": "stdout",
          "output_type": "stream",
          "text": [
            "Enter product id:116\n",
            "Enter product name:soap\n",
            "Enter price:10\n",
            "Enter quantity:500\n",
            "Enter weight:10gm\n"
          ]
        }
      ]
    }
  ]
}