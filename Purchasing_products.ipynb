{
  "nbformat": 4,
  "nbformat_minor": 0,
  "metadata": {
    "colab": {
      "name": "Purchasing products",
      "provenance": [],
      "collapsed_sections": []
    },
    "kernelspec": {
      "name": "python3",
      "display_name": "Python 3"
    },
    "language_info": {
      "name": "python"
    }
  },
  "cells": [
    {
      "cell_type": "code",
      "metadata": {
        "id": "ZOdLHjSIPKSW"
      },
      "source": [
        "record = {101 : { \"prod_nm\":\"Biscuit\", \"prod_cost\":20, \"prod_quan\": 100, \"prod_weight\":'10gm'},\n",
        "       102 : { \"prod_nm\":\"Chocolate\", \"prod_cost\":10, \"prod_quan\": 200, \"prod_weight\":'1gm'},\n",
        "       103 : { \"prod_nm\":\"Chips\", \"prod_cost\":10, \"prod_quan\": 150, \"prod_weight\":'15gm'},\n",
        "       104 : { \"prod_nm\":\"Drinks\", \"prod_cost\":25, \"prod_quan\": 100, \"prod_weight\":'1 li'},\n",
        "       105 : { \"prod_nm\":\"Cakes\", \"prod_cost\":40, \"prod_quan\": 100, \"prod_weight\":'500gm'},\n",
        "       106 : { \"prod_nm\":\"coffee packet\", \"prod_cost\":15, \"prod_quan\": 100, \"prod_weight\":'1gm'},\n",
        "       107 : { \"prod_nm\":\"tea packet\", \"prod_cost\":20, \"prod_quan\": 200, \"prod_weight\":'10gm'},\n",
        "       108 : { \"prod_nm\":\"Milk\", \"prod_cost\":30, \"prod_quan\": 120, \"prod_weight\":'1 li'},\n",
        "       109 : { \"prod_nm\":\"Sugar\", \"prod_cost\":35, \"prod_quan\": 200, \"prod_weight\":'1kg'},\n",
        "       110 : { \"prod_nm\":\"Wheat flour\", \"prod_cost\":350, \"prod_quan\": 200, \"prod_weight\":'5kg'},\n",
        "       111 : { \"prod_nm\":\"Cheese\", \"prod_cost\":50, \"prod_quan\": 100, \"prod_weight\":'15gm'},\n",
        "       112 : { \"prod_nm\":\"Mixed spices\", \"prod_cost\":35, \"prod_quan\": 200, \"prod_weight\":'10gm'},\n",
        "       112 : { \"prod_nm\":\"Soap\", \"prod_cost\":35, \"prod_quan\": 200, \"prod_weight\":'10gm'},\n",
        "       114 : { \"prod_nm\":\"clothes\", \"prod_cost\":100, \"prod_quan\": 500, \"prod_weight\":'-'},\n",
        "       115 : { \"prod_nm\":\"Rice flour\", \"prod_cost\":150, \"prod_quan\": 200, \"prod_weight\":'1kg'},\n",
        "       116 : { \"prod_nm\":\"Juice\", \"prod_cost\":20, \"prod_quan\": 200, \"prod_weight\":'1 li'},\n",
        "       117 : { \"prod_nm\":\"Toaster\", \"prod_cost\":700, \"prod_quan\": 200, \"prod_weight\":'5kg'},\n",
        "       118 : { \"prod_nm\":\"Cooker\", \"prod_cost\":250, \"prod_quan\": 100, \"prod_weight\":'1 li'},\n",
        "       119 : { \"prod_nm\":\"vegetables\", \"prod_cost\":40, \"prod_quan\": 140, \"prod_weight\":'10gm'},\n",
        "       120 : { \"prod_nm\":\"Crockery\", \"prod_cost\":1000, \"prod_quan\": 300, \"prod_weight\":'500gm'},\n",
        "       121 : { \"prod_nm\":\"Cosmetics\", \"prod_cost\":150, \"prod_quan\": 100, \"prod_weight\":'5gm'},\n",
        "       122 : { \"prod_nm\":\"Detergent\", \"prod_cost\":35, \"prod_quan\": 200, \"prod_weight\":'1kg'},\n",
        "       123 : { \"prod_nm\":\"Bags\", \"prod_cost\":150, \"prod_quan\": 200, \"prod_weight\":'250gm'},\n",
        "       124 : { \"prod_nm\":\"Bedsheets\", \"prod_cost\":250, \"prod_quan\": 500, \"prod_weight\":'1 m'},\n",
        "       125 : { \"prod_nm\":\"Table cloth\", \"prod_cost\":100, \"prod_quan\": 200, \"prod_weight\":'1 m'},\n",
        "       126 : { \"prod_nm\":\"Copper utensils\", \"prod_cost\":400, \"prod_quan\":100 , \"prod_weight\":'100 gm'},\n",
        "       127 : { \"prod_nm\":\"Steel utensils\", \"prod_cost\":400, \"prod_quan\": 200, \"prod_weight\":'100gm'},\n",
        "       128 : { \"prod_nm\":\"Mixer grinder\", \"prod_cost\":100, \"prod_quan\": 200, \"prod_weight\":'1 kg'},\n",
        "       129 : { \"prod_nm\":\"Kitchen towels\", \"prod_cost\":35, \"prod_quan\": 200, \"prod_weight\":'10gm'},\n",
        "       130 : { \"prod_nm\":\"Tissue papers\", \"prod_cost\":12, \"prod_quan\": 200, \"prod_weight\":'1gm'}}\n"
      ],
      "execution_count": 1,
      "outputs": []
    },
    {
      "cell_type": "code",
      "metadata": {
        "id": "GI7cmv7ydMZN"
      },
      "source": [
        "import json\n",
        "js = json.dumps(record)"
      ],
      "execution_count": 2,
      "outputs": []
    },
    {
      "cell_type": "code",
      "metadata": {
        "id": "wjICsuDIdrt-"
      },
      "source": [
        "fd = open(\"Record.txt\", 'w')\n",
        "fd.write(js)\n",
        "fd.close()"
      ],
      "execution_count": 3,
      "outputs": []
    },
    {
      "cell_type": "code",
      "metadata": {
        "id": "VNhLmWiydx6q"
      },
      "source": [
        "fd = open(\"Record.txt\", 'r')\n",
        "txt = fd.read()\n",
        "fd.close()\n"
      ],
      "execution_count": 4,
      "outputs": []
    },
    {
      "cell_type": "code",
      "metadata": {
        "id": "7RGhZRANd20a"
      },
      "source": [
        "record = json.loads(txt)"
      ],
      "execution_count": 5,
      "outputs": []
    },
    {
      "cell_type": "code",
      "metadata": {
        "colab": {
          "base_uri": "https://localhost:8080/"
        },
        "id": "Jlb0BkU0d7lr",
        "outputId": "b8579844-52a2-45fb-a307-b6f1a6755d6b"
      },
      "source": [
        "ui_prod = str(input(\"Enter the product id:\"))\n",
        "ui_quan = int(input(\"Enter quantity:\"))\n",
        "\n",
        "print(\"Product:\", record[ui_prod]['prod_nm'])\n",
        "print(\"Price:\", record[ui_prod]['prod_cost'])\n",
        "print(\"*****************************\")\n",
        "\n",
        "print(\"Billing amount = \", record[ui_prod]['prod_cost'] * int(ui_quan))\n",
        "\n",
        "print(\"*****************************\")\n",
        "record[ui_prod]['prod_quan'] =  record[ui_prod]['prod_quan'] - ui_quan"
      ],
      "execution_count": 6,
      "outputs": [
        {
          "output_type": "stream",
          "name": "stdout",
          "text": [
            "Enter the product id:112\n",
            "Enter quantity:2\n",
            "Product: Soap\n",
            "Price: 35\n",
            "*****************************\n",
            "Billing amount =  70\n",
            "*****************************\n"
          ]
        }
      ]
    },
    {
      "cell_type": "markdown",
      "metadata": {
        "id": "WUZMRBZEj25g"
      },
      "source": [
        "Update inventory after purchase"
      ]
    },
    {
      "cell_type": "code",
      "metadata": {
        "id": "EiXGsMeLj7ok"
      },
      "source": [
        "js = json.dumps(record)\n",
        "\n",
        "fd = open(\"record.json\", 'w')\n",
        "fd.write(js)\n",
        "fd.close()"
      ],
      "execution_count": 7,
      "outputs": []
    },
    {
      "cell_type": "markdown",
      "metadata": {
        "id": "ut2l-vvekwi-"
      },
      "source": [
        "Sales JSON"
      ]
    },
    {
      "cell_type": "code",
      "metadata": {
        "id": "wDo187HHkzFe",
        "colab": {
          "base_uri": "https://localhost:8080/"
        },
        "outputId": "07b3ed1c-53e4-469a-c1e3-8a034624117f"
      },
      "source": [
        "{'product id': ui_prod, 'quantity':ui_quan, 'amount': record[ui_prod]['prod_cost'] * ui_quan}"
      ],
      "execution_count": 8,
      "outputs": [
        {
          "output_type": "execute_result",
          "data": {
            "text/plain": [
              "{'amount': 70, 'product id': '112', 'quantity': 2}"
            ]
          },
          "metadata": {},
          "execution_count": 8
        }
      ]
    },
    {
      "cell_type": "code",
      "metadata": {
        "id": "lnjGHSIaly42"
      },
      "source": [
        "sales = {1: {'product id': ui_prod, 'quantity':ui_quan, 'amount': record[ui_prod]['prod_cost'] * ui_quan},\n",
        "         2: {'product id': ui_prod, 'quantity':ui_quan, 'amount': record[ui_prod]['prod_cost'] * ui_quan},\n",
        "         3: {'product id': ui_prod, 'quantity':ui_quan, 'amount': record[ui_prod]['prod_cost'] * ui_quan}}"
      ],
      "execution_count": 9,
      "outputs": []
    },
    {
      "cell_type": "code",
      "metadata": {
        "colab": {
          "base_uri": "https://localhost:8080/",
          "height": 52
        },
        "id": "0Bsn_aRGmLuq",
        "outputId": "ecec610e-e4d5-4a61-f038-85f1d6c709ec"
      },
      "source": [
        "json.dumps(sales)"
      ],
      "execution_count": 10,
      "outputs": [
        {
          "output_type": "execute_result",
          "data": {
            "application/vnd.google.colaboratory.intrinsic+json": {
              "type": "string"
            },
            "text/plain": [
              "'{\"1\": {\"product id\": \"112\", \"quantity\": 2, \"amount\": 70}, \"2\": {\"product id\": \"112\", \"quantity\": 2, \"amount\": 70}, \"3\": {\"product id\": \"112\", \"quantity\": 2, \"amount\": 70}}'"
            ]
          },
          "metadata": {},
          "execution_count": 10
        }
      ]
    }
  ]
}